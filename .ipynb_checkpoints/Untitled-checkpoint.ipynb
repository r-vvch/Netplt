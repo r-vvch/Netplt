{
 "cells": [
  {
   "cell_type": "code",
   "execution_count": null,
   "id": "aefaf2b1",
   "metadata": {},
   "outputs": [],
   "source": [
    "import pyshark\n",
    "import matplotlib.pyplot as plt"
   ]
  },
  {
   "cell_type": "code",
   "execution_count": null,
   "id": "e1dff97d",
   "metadata": {},
   "outputs": [],
   "source": [
    "class PacketInfo:\n",
    "    def __init__(self, stream, length, time_relative):\n",
    "        self.stream = stream\n",
    "        self.length = length\n",
    "        self.time_relative = time_relative\n",
    "\n",
    "    def __str__(self):\n",
    "        return \"% s % s % s\" % (self.stream, self.length, self.time_relative)"
   ]
  },
  {
   "cell_type": "code",
   "execution_count": null,
   "id": "8b9d783c",
   "metadata": {},
   "outputs": [],
   "source": [
    "pcap = pyshark.FileCapture('/home/roman/My/SSL_try/capture_480_10min_tcp_100_frames.pcap', display_filter=\"tcp\")"
   ]
  },
  {
   "cell_type": "code",
   "execution_count": null,
   "id": "2ba7a7a6",
   "metadata": {},
   "outputs": [],
   "source": [
    "packet_storage = []\n",
    "\n",
    "max_stream = 0\n",
    "for packet in pcap:\n",
    "    stream_num = int(packet.tcp.stream)\n",
    "    if stream_num > max_stream:\n",
    "        max_stream = stream_num\n",
    "    try:\n",
    "        packet_storage[stream_num].append(PacketInfo(stream_num, packet.tcp.len, packet.tcp.time_relative))\n",
    "    except IndexError:\n",
    "        packet_storage.append([])\n",
    "        while len(packet_storage) < stream_num + 1:\n",
    "            packet_storage.append([])\n",
    "        packet_storage[stream_num].append(PacketInfo(stream_num, packet.tcp.len, packet.tcp.time_relative))\n",
    "\n",
    "print(max_stream)"
   ]
  },
  {
   "cell_type": "code",
   "execution_count": null,
   "id": "48c81a7d",
   "metadata": {},
   "outputs": [],
   "source": [
    "for stream_packets in packet_storage:\n",
    "    times = []\n",
    "    lengths = []\n",
    "    stream = stream_packets[0].stream\n",
    "    for packet in stream_packets:\n",
    "        times.append(float(packet.time_relative))\n",
    "        lengths.append(packet.length)\n",
    "    plt.subplot(max_stream + 1, 1, stream + 1)\n",
    "    plt.plot(times, lengths)\n",
    "    plt.title(stream)\n",
    "    plt.xlabel('time')\n",
    "    plt.ylabel('length')\n",
    "    plt.xticks(rotation=45)\n",
    "plt.show()"
   ]
  }
 ],
 "metadata": {
  "kernelspec": {
   "display_name": "Python 3 (ipykernel)",
   "language": "python",
   "name": "python3"
  },
  "language_info": {
   "codemirror_mode": {
    "name": "ipython",
    "version": 3
   },
   "file_extension": ".py",
   "mimetype": "text/x-python",
   "name": "python",
   "nbconvert_exporter": "python",
   "pygments_lexer": "ipython3",
   "version": "3.8.10"
  }
 },
 "nbformat": 4,
 "nbformat_minor": 5
}
